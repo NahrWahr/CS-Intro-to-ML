{
 "cells": [
  {
   "cell_type": "code",
   "execution_count": 1,
   "id": "a59ece90-e01f-415c-bfef-da2d999cdf19",
   "metadata": {},
   "outputs": [],
   "source": [
    "import numpy as np"
   ]
  },
  {
   "cell_type": "code",
   "execution_count": 2,
   "id": "24af15ac-668d-4309-a71d-6965bc199321",
   "metadata": {
    "jupyter": {
     "source_hidden": true
    },
    "tags": []
   },
   "outputs": [],
   "source": [
    "class Merlin:\n",
    "    def __init__( self, query_max, words ):\n",
    "        self.words = words\n",
    "        self.num_words = len( words )\n",
    "        self.secret = \"\"\n",
    "        self.query_max = query_max\n",
    "        self.arthur = None\n",
    "        self.win_count = 0\n",
    "        self.tot_query_count = 0\n",
    "        self.rnd_query_count = 0\n",
    "        \n",
    "    def meet( self, arthur ):\n",
    "        self.arthur = arthur\n",
    "    \n",
    "    def reset( self, secret ):\n",
    "        self.secret = secret\n",
    "        self.rnd_query_count = 0\n",
    "    \n",
    "    # Receive a message from Arthur\n",
    "    # Process it and terminate the round or else message Arthur back\n",
    "    # Arthur can set is_done to request termination of this round after this query\n",
    "    def msg( self, query_idx, is_done = False ):\n",
    "    \n",
    "        # Supplying an illegal value for query_idx is a way for Arthur to request\n",
    "        # termination of this round immediately without even processing the current query\n",
    "        # However, this results in query count being set to max for this round\n",
    "        if query_idx < 0 or query_idx > self.num_words - 1:\n",
    "            warnings.warn( \"Warning: Arthur has sent an illegal query -- terminating this round\", UserWarning )\n",
    "            self.tot_query_count += self.query_max\n",
    "            return\n",
    "        \n",
    "        # Arthur has made a valid query\n",
    "        # Find the guessed word and increase the query counter\n",
    "        query = self.words[ query_idx ]\n",
    "        self.rnd_query_count += 1\n",
    "        \n",
    "        # Find out the intersections between the query and the secret\n",
    "        reveal = [ *( '_' * len( self.secret ) ) ]\n",
    "        \n",
    "        for i in range( min( len( self.secret ), len( query ) ) ):\n",
    "            if self.secret[i] == query[i]:\n",
    "                reveal[ i ] = self.secret[i]\n",
    "        \n",
    "        # The word was correctly guessed\n",
    "        if '_' not in reveal:\n",
    "            self.win_count += 1\n",
    "            self.tot_query_count += self.rnd_query_count\n",
    "            return\n",
    "        \n",
    "        # Too many queries have been made - terminate the round\n",
    "        if self.rnd_query_count >= self.query_max:\n",
    "            self.tot_query_count += self.rnd_query_count\n",
    "            return\n",
    "        \n",
    "        # If Arthur is done playing, terminate this round\n",
    "        if is_done:\n",
    "            self.tot_query_count += self.rnd_query_count\n",
    "            return\n",
    "        \n",
    "        # If none of the above happen, continue playing\n",
    "        self.arthur.msg( ' '.join( reveal ) )\n",
    "    \n",
    "    def reset_and_play( self, secret ):\n",
    "        self.reset( secret )\n",
    "        self.arthur.msg( ( \"_ \" * len( self.secret ) )[:-1] )"
   ]
  },
  {
   "cell_type": "code",
   "execution_count": 3,
   "id": "b3a7d0e0-6d4c-49d0-b0a8-a00569311743",
   "metadata": {
    "jupyter": {
     "source_hidden": true
    },
    "tags": []
   },
   "outputs": [],
   "source": [
    "class Arthur:\n",
    "    def __init__( self, model ):\n",
    "        self.dt = model\n",
    "        self.curr_node = self.dt.root\n",
    "        self.merlin = None\n",
    "        self.is_done = False\n",
    "        \n",
    "    def meet( self, merlin ):\n",
    "        self.merlin = merlin\n",
    "    \n",
    "    def reset( self ):\n",
    "        self.curr_node = self.dt.root\n",
    "        self.is_done = False\n",
    "    \n",
    "    def msg( self, response ):\n",
    "        # If we are not at a leaf, lets go to the appropriate child based on the response\n",
    "        if not self.curr_node.is_leaf:\n",
    "            self.curr_node = self.curr_node.get_child( response )\n",
    "        # If we are at a leaf, we should reqeust Merlin to terminate the round after this query\n",
    "        else:\n",
    "            self.is_done = True\n",
    "        \n",
    "        # Either way, get the query to be sent to Merlin\n",
    "        query = self.curr_node.get_query()\n",
    "        self.merlin.msg( query, self.is_done )"
   ]
  },
  {
   "cell_type": "code",
   "execution_count": 4,
   "id": "7d52d072-b0c8-4b9a-bcae-52186f91928d",
   "metadata": {
    "tags": []
   },
   "outputs": [],
   "source": [
    "with open( \"dict_secret\", 'r' ) as f:\n",
    "    words = f.read().split( '\\n' )[:-1] # Omit the last line since it is empty\n",
    "    num_words = len( words )"
   ]
  },
  {
   "cell_type": "code",
   "execution_count": 5,
   "id": "694d0d1a-4a32-428d-923c-52f67039bc4e",
   "metadata": {
    "tags": []
   },
   "outputs": [],
   "source": [
    "class Tree:\n",
    "    def __init__( self, min_leaf_size, max_depth ):\n",
    "        self.root = None\n",
    "        self.words = None\n",
    "        self.min_leaf_size = min_leaf_size\n",
    "        self.max_depth = max_depth\n",
    "    \n",
    "    def fit( self, words, verbose = False ):\n",
    "        self.words = words\n",
    "        self.root = Node( depth = 0, parent = None )\n",
    "        # The root is trained with all the words\n",
    "        self.root.fit(all_words = self.words, \n",
    "                      my_words_idx = np.arange( len( self.words ) ), \n",
    "                      min_leaf_size = self.min_leaf_size, \n",
    "                      max_depth = self.max_depth, \n",
    "                      )"
   ]
  },
  {
   "cell_type": "code",
   "execution_count": 6,
   "id": "3342097b-8d3c-41ce-9539-455991384b97",
   "metadata": {
    "tags": []
   },
   "outputs": [],
   "source": [
    "class Node:\n",
    "    def __init__(self, depth, parent):\n",
    "        self.depth = depth\n",
    "        self.parent = parent\n",
    "        self.all_words = None\n",
    "        self.my_words_idx = None\n",
    "        self.children = {}\n",
    "        self.is_leaf = True\n",
    "        self.query_idx = None\n",
    "        self.leaf_num = 0\n",
    "\n",
    "    def get_query(self):\n",
    "        return self.query_idx\n",
    "\n",
    "    def get_child(self, response):\n",
    "        if self.is_leaf:\n",
    "            print(\"Why is a leaf node being asked to produce a child? Melbot should look into this!!\")\n",
    "            child = self\n",
    "        else:\n",
    "            if response not in self.children:\n",
    "                print(f\"Unknown response {response} -- need to fix the model\")\n",
    "                response = list(self.children.keys())[0]\n",
    "            child = self.children[response]\n",
    "        return child\n",
    "\n",
    "    def process_leaf(self, my_words_idx):\n",
    "        return my_words_idx[0]\n",
    "\n",
    "    def reveal(self, word: str, query: str) -> str:\n",
    "        mask = ['_' for _ in range(len(word))]\n",
    "        for i in range(min(len(word), len(query))):\n",
    "            if word[i] == query[i]:\n",
    "                mask[i] = word[i]\n",
    "        return ' '.join(mask)\n",
    "\n",
    "    def calculate_entropy(self, freq_candidate):\n",
    "        num_elements = np.sum(freq_candidate)\n",
    "        if num_elements <= 1:\n",
    "            return 0\n",
    "        return np.sum((freq_candidate / num_elements) * np.log2(freq_candidate))\n",
    "\n",
    "    def check_against_candidates(self, all_words, my_words_idx, idx):\n",
    "        count_unique_responses = {}\n",
    "        for candidate in my_words_idx:\n",
    "            mask = self.reveal(all_words[candidate], all_words[idx])\n",
    "            if mask not in count_unique_responses:\n",
    "                count_unique_responses[mask] = 0\n",
    "            count_unique_responses[mask] += 1\n",
    "        return self.calculate_entropy(np.array(list(count_unique_responses.values())))\n",
    "\n",
    "    def determine_query_idx(self, all_words, my_words_idx):\n",
    "        return my_words_idx[np.argmin([self.check_against_candidates(all_words, my_words_idx, idx) for idx in my_words_idx])]\n",
    "\n",
    "    def process_node(self, all_words, my_words_idx):\n",
    "        if self.depth == 0:\n",
    "            query_idx = -1\n",
    "            query = \"\"\n",
    "        else:\n",
    "            query_idx = self.determine_query_idx(all_words, my_words_idx)\n",
    "            query = all_words[query_idx]\n",
    "\n",
    "        store_unique_responses = {}\n",
    "        for idx in my_words_idx:\n",
    "            mask = self.reveal(all_words[idx], query)\n",
    "            if mask not in store_unique_responses:\n",
    "                store_unique_responses[mask] = []\n",
    "            store_unique_responses[mask].append(idx)\n",
    "        \n",
    "        return (query_idx, store_unique_responses)\n",
    "\n",
    "    def fit(self, all_words, my_words_idx, min_leaf_size, max_depth):\n",
    "        self.all_words = all_words\n",
    "        self.my_words_idx = my_words_idx\n",
    "\n",
    "        if len(my_words_idx) <= min_leaf_size or self.depth >= max_depth:\n",
    "            self.is_leaf = True\n",
    "            self.query_idx = self.process_leaf(self.my_words_idx)\n",
    "        else:\n",
    "            self.is_leaf = False\n",
    "            (self.query_idx, split_dict) = self.process_node(self.all_words, self.my_words_idx)\n",
    "\n",
    "            for (i, (response, split)) in enumerate(split_dict.items()):\n",
    "                self.children[response] = Node(depth=self.depth + 1, parent=self)\n",
    "                self.children[response].fit(self.all_words, split, min_leaf_size, max_depth)"
   ]
  },
  {
   "cell_type": "code",
   "execution_count": 7,
   "id": "4dc8fd4b-492b-426b-9fc2-07671ffd37f9",
   "metadata": {
    "tags": []
   },
   "outputs": [],
   "source": [
    "def my_fit( words):\n",
    "    dt = Tree( min_leaf_size = 1, max_depth = 15 )\n",
    "    dt.fit( words)\n",
    "    return dt"
   ]
  },
  {
   "cell_type": "code",
   "execution_count": 8,
   "id": "e2eb2023-8156-490a-b797-6d980991fc58",
   "metadata": {
    "tags": []
   },
   "outputs": [],
   "source": [
    "model = my_fit(words)\n",
    "query_max = 15\n",
    "win = 0\n",
    "query = 0"
   ]
  },
  {
   "cell_type": "code",
   "execution_count": 9,
   "id": "f81d334c-692c-4e44-9730-b0e082f4aeab",
   "metadata": {
    "tags": []
   },
   "outputs": [],
   "source": [
    "merlin = Merlin( query_max, words )\n",
    "arthur = Arthur( model )\n",
    "merlin.meet( arthur )\n",
    "arthur.meet( merlin )\n",
    "\n",
    "for ( i, secret ) in enumerate( words ):\n",
    "    arthur.reset()\n",
    "    merlin.reset_and_play( secret )\n",
    "\n",
    "win += merlin.win_count / num_words\n",
    "query += merlin.tot_query_count / num_words"
   ]
  },
  {
   "cell_type": "code",
   "execution_count": 10,
   "id": "c56d5ec0-acfd-43d1-99cf-5c0109391162",
   "metadata": {
    "tags": []
   },
   "outputs": [
    {
     "data": {
      "text/plain": [
       "(1.0, 3.9992258563963614)"
      ]
     },
     "execution_count": 10,
     "metadata": {},
     "output_type": "execute_result"
    }
   ],
   "source": [
    "win, query"
   ]
  }
 ],
 "metadata": {
  "kernelspec": {
   "display_name": "Python 3",
   "language": "python",
   "name": "python3"
  },
  "language_info": {
   "codemirror_mode": {
    "name": "ipython",
    "version": 3
   },
   "file_extension": ".py",
   "mimetype": "text/x-python",
   "name": "python",
   "nbconvert_exporter": "python",
   "pygments_lexer": "ipython3",
   "version": "3.9.2"
  }
 },
 "nbformat": 4,
 "nbformat_minor": 5
}
