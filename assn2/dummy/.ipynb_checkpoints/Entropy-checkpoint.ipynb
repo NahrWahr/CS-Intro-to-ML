{
 "cells": [
  {
   "cell_type": "code",
   "execution_count": 1,
   "id": "a59ece90-e01f-415c-bfef-da2d999cdf19",
   "metadata": {},
   "outputs": [],
   "source": [
    "import numpy as np"
   ]
  },
  {
   "cell_type": "code",
   "execution_count": 11,
   "id": "24af15ac-668d-4309-a71d-6965bc199321",
   "metadata": {
    "jupyter": {
     "source_hidden": true
    },
    "tags": []
   },
   "outputs": [],
   "source": [
    "class Merlin:\n",
    "    def __init__( self, query_max, words ):\n",
    "        self.words = words\n",
    "        self.num_words = len( words )\n",
    "        self.secret = \"\"\n",
    "        self.query_max = query_max\n",
    "        self.arthur = None\n",
    "        self.win_count = 0\n",
    "        self.tot_query_count = 0\n",
    "        self.rnd_query_count = 0\n",
    "        \n",
    "    def meet( self, arthur ):\n",
    "        self.arthur = arthur\n",
    "    \n",
    "    def reset( self, secret ):\n",
    "        self.secret = secret\n",
    "        self.rnd_query_count = 0\n",
    "    \n",
    "    # Receive a message from Arthur\n",
    "    # Process it and terminate the round or else message Arthur back\n",
    "    # Arthur can set is_done to request termination of this round after this query\n",
    "    def msg( self, query_idx, is_done = False ):\n",
    "    \n",
    "        # Supplying an illegal value for query_idx is a way for Arthur to request\n",
    "        # termination of this round immediately without even processing the current query\n",
    "        # However, this results in query count being set to max for this round\n",
    "        if query_idx < 0 or query_idx > self.num_words - 1:\n",
    "            warnings.warn( \"Warning: Arthur has sent an illegal query -- terminating this round\", UserWarning )\n",
    "            self.tot_query_count += self.query_max\n",
    "            return\n",
    "        \n",
    "        # Arthur has made a valid query\n",
    "        # Find the guessed word and increase the query counter\n",
    "        query = self.words[ query_idx ]\n",
    "        self.rnd_query_count += 1\n",
    "        \n",
    "        # Find out the intersections between the query and the secret\n",
    "        reveal = [ *( '_' * len( self.secret ) ) ]\n",
    "        \n",
    "        for i in range( min( len( self.secret ), len( query ) ) ):\n",
    "            if self.secret[i] == query[i]:\n",
    "                reveal[ i ] = self.secret[i]\n",
    "        \n",
    "        # The word was correctly guessed\n",
    "        if '_' not in reveal:\n",
    "            self.win_count += 1\n",
    "            self.tot_query_count += self.rnd_query_count\n",
    "            return\n",
    "        \n",
    "        # Too many queries have been made - terminate the round\n",
    "        if self.rnd_query_count >= self.query_max:\n",
    "            self.tot_query_count += self.rnd_query_count\n",
    "            return\n",
    "        \n",
    "        # If Arthur is done playing, terminate this round\n",
    "        if is_done:\n",
    "            self.tot_query_count += self.rnd_query_count\n",
    "            return\n",
    "        \n",
    "        # If none of the above happen, continue playing\n",
    "        self.arthur.msg( ' '.join( reveal ) )\n",
    "    \n",
    "    def reset_and_play( self, secret ):\n",
    "        self.reset( secret )\n",
    "        self.arthur.msg( ( \"_ \" * len( self.secret ) )[:-1] )"
   ]
  },
  {
   "cell_type": "code",
   "execution_count": 12,
   "id": "b3a7d0e0-6d4c-49d0-b0a8-a00569311743",
   "metadata": {
    "jupyter": {
     "source_hidden": true
    },
    "tags": []
   },
   "outputs": [],
   "source": [
    "class Arthur:\n",
    "    def __init__( self, model ):\n",
    "        self.dt = model\n",
    "        self.curr_node = self.dt.root\n",
    "        self.merlin = None\n",
    "        self.is_done = False\n",
    "        \n",
    "    def meet( self, merlin ):\n",
    "        self.merlin = merlin\n",
    "    \n",
    "    def reset( self ):\n",
    "        self.curr_node = self.dt.root\n",
    "        self.is_done = False\n",
    "    \n",
    "    def msg( self, response ):\n",
    "        # If we are not at a leaf, lets go to the appropriate child based on the response\n",
    "        if not self.curr_node.is_leaf:\n",
    "            self.curr_node = self.curr_node.get_child( response )\n",
    "        # If we are at a leaf, we should reqeust Merlin to terminate the round after this query\n",
    "        else:\n",
    "            self.is_done = True\n",
    "        \n",
    "        # Either way, get the query to be sent to Merlin\n",
    "        query = self.curr_node.get_query()\n",
    "        self.merlin.msg( query, self.is_done )"
   ]
  },
  {
   "cell_type": "code",
   "execution_count": 13,
   "id": "7d52d072-b0c8-4b9a-bcae-52186f91928d",
   "metadata": {
    "tags": []
   },
   "outputs": [],
   "source": [
    "with open( \"dict_secret\", 'r' ) as f:\n",
    "    words = f.read().split( '\\n' )[:-1] # Omit the last line since it is empty\n",
    "    num_words = len( words )"
   ]
  },
  {
   "cell_type": "code",
   "execution_count": 14,
   "id": "694d0d1a-4a32-428d-923c-52f67039bc4e",
   "metadata": {
    "tags": []
   },
   "outputs": [],
   "source": [
    "class Tree:\n",
    "    def __init__( self, min_leaf_size, max_depth ):\n",
    "        self.root = None\n",
    "        self.words = None\n",
    "        self.min_leaf_size = min_leaf_size\n",
    "        self.max_depth = max_depth\n",
    "    \n",
    "    def fit( self, words, verbose = False ):\n",
    "        self.words = words\n",
    "        self.root = Node( depth = 0, parent = None )\n",
    "        # The root is trained with all the words\n",
    "        self.root.fit(all_words = self.words, \n",
    "                      my_words_idx = np.arange( len( self.words ) ), \n",
    "                      min_leaf_size = self.min_leaf_size, \n",
    "                      max_depth = self.max_depth, \n",
    "                      )"
   ]
  },
  {
   "cell_type": "code",
   "execution_count": 15,
   "id": "3342097b-8d3c-41ce-9539-455991384b97",
   "metadata": {
    "tags": []
   },
   "outputs": [],
   "source": [
    "class Node:\n",
    "\t# A node stores its own depth (root = depth 0), a link to its parent\n",
    "\t# A link to all the words as well as the words that reached that node\n",
    "\t# A dictionary is used to store the children of a non-leaf node.\n",
    "\t# Each child is paired with the response that selects that child.\n",
    "\t# A node also stores the query-response history that led to that node\n",
    "\t# Note: my_words_idx only stores indices and not the words themselves\n",
    "\tdef __init__( self, depth, parent ):\n",
    "\t\tself.depth = depth\n",
    "\t\tself.parent = parent\n",
    "\t\tself.all_words = None\n",
    "\t\tself.my_words_idx = None\n",
    "\t\tself.children = {}\n",
    "\t\tself.is_leaf = True\n",
    "\t\tself.query_idx = None\n",
    "\t\n",
    "\t# Each node must implement a get_query method that generates the\n",
    "\t# query that gets asked when we reach that node. Note that leaf nodes\n",
    "\t# also generate a query which is usually the final answer\n",
    "\tdef get_query( self ):\n",
    "\t\treturn self.query_idx\n",
    "\t\n",
    "\t# Each non-leaf node must implement a get_child method that takes a\n",
    "\t# response and selects one of the children based on that response\n",
    "\tdef get_child( self, response ):\n",
    "\t\t# This case should not arise if things are working properly\n",
    "\t\t# Cannot return a child if I am a leaf so return myself as a default action\n",
    "\t\tif self.is_leaf:\n",
    "\t\t\tprint( \"Why is a leaf node being asked to produce a child? Melbot should look into this!!\" )\n",
    "\t\t\tchild = self\n",
    "\t\telse:\n",
    "\t\t\t# This should ideally not happen. The node should ensure that all possibilities\n",
    "\t\t\t# are covered, e.g. by having a catch-all response. Fix the model if this happens\n",
    "\t\t\t# For now, hack things by modifying the response to one that exists in the dictionary\n",
    "\t\t\tif response not in self.children:\n",
    "\t\t\t\tprint( f\"Unknown response {response} -- need to fix the model\" )\n",
    "\t\t\t\tresponse = list(self.children.keys())[0]\n",
    "\t\t\t\n",
    "\t\t\tchild = self.children[ response ]\n",
    "\t\t\t\n",
    "\t\treturn child\n",
    "\t\n",
    "\t# Dummy leaf action -- just return the first word\n",
    "\tdef process_leaf( self, my_words_idx ):\n",
    "\t\treturn my_words_idx[0]\n",
    "\t\n",
    "\tdef reveal( self, word, query ):\n",
    "\t\t# Find out the intersections between the query and the word\n",
    "\t\tmask = [ *( '_' * len( word ) ) ]\n",
    "\t\t\n",
    "\t\tfor i in range( min( len( word ), len( query ) ) ):\n",
    "\t\t\tif word[i] == query[i]:\n",
    "\t\t\t\tmask[i] = word[i]\n",
    "\t\t\n",
    "\t\treturn ' '.join( mask )\n",
    "\t\n",
    "\t# Prof's code\n",
    "\t# Dummy node splitting action -- use a random word as query\n",
    "\t# Note that any word in the dictionary can be the query\n",
    "\tdef process_node( self, all_words, my_words_idx):\n",
    "\t\t# For the root we do not ask any query -- Melbot simply gives us the length of the secret word\n",
    "\t\tif self.depth == 0:\n",
    "\t\t\tquery_idx = -1\n",
    "\t\t\tquery = \"\"\n",
    "\t\telse:\n",
    "\t\t\tquery_idx = self.get_query_idx( all_words, my_words_idx)\n",
    "\t\t\tquery = all_words[ query_idx ]\n",
    "\n",
    "\t\tsplit_dict = {}\n",
    "\n",
    "\t\tfor idx in my_words_idx:\n",
    "\t\t\tmask = self.reveal( all_words[ idx ], query )\n",
    "\t\t\tif mask not in split_dict:\n",
    "\t\t\t\tsplit_dict[ mask ] = []\n",
    "\t\t\tsplit_dict[ mask ].append( idx )\n",
    "\t\treturn ( query_idx, split_dict )\n",
    "\t\n",
    "\tdef fit( self, all_words, my_words_idx, min_leaf_size, max_depth):\n",
    "\t\tself.all_words = all_words\n",
    "\t\tself.my_words_idx = my_words_idx\n",
    "\n",
    "\t\t# If the node is too small or too deep, make it a leaf\n",
    "\t\t# In general, can also include purity considerations into account\n",
    "\t\tif len( my_words_idx ) <= min_leaf_size or self.depth >= max_depth:\n",
    "\t\t\tself.is_leaf = True\n",
    "\t\t\tself.query_idx = self.process_leaf( self.my_words_idx )\n",
    "\t\telse:\n",
    "\t\t\tself.is_leaf = False\n",
    "\t\t\t( self.query_idx, split_dict ) = self.process_node( self.all_words, self.my_words_idx)\n",
    "\n",
    "\t\t\tfor ( i, ( response, split ) ) in enumerate( split_dict.items() ):\n",
    "\t\t\t\t# Create a new child for every split\n",
    "\t\t\t\tself.children[ response ] = Node( depth = self.depth + 1, parent = self )\n",
    "\t\t\t\t# Recursively train this child node\n",
    "\t\t\t\tself.children[ response ].fit( self.all_words, split, min_leaf_size, max_depth)\n",
    "\n",
    "\t\"\"\" Start our functions here \"\"\"\n",
    "\t\n",
    "\tdef get_query_idx (self, all_words, my_words_idx):\n",
    "\t\treturn my_words_idx[np.argmin([self.try_idx(all_words, my_words_idx,i) for i in my_words_idx])]\n",
    "\t\n",
    "\tdef try_idx(self, all_words, my_words_idx, i):\n",
    "\t\tcount_dict = {}\n",
    "\t\tquery=all_words[i]\n",
    "\t\tfor idx in my_words_idx:\n",
    "\t\t\tmask = self.reveal( all_words[ idx ], query )\n",
    "\t\t\tif mask not in count_dict:\n",
    "\t\t\t\tcount_dict[ mask ] = 0\n",
    "\t\t\tcount_dict[ mask ]+=1\n",
    "\t\treturn self.get_entropy( np.array( list( count_dict.values() ) ) )\n",
    "\t\n",
    "\tdef get_entropy(self, counts):\n",
    "\t\tassert np.min( counts ) > 0, \"Elements with zero or negative counts detected\"\n",
    "\t\tnum_elements = np.sum(counts)\n",
    "\n",
    "\t\t# A singular or empty set has zero entropy\n",
    "\t\tif num_elements <= 1:\n",
    "\t\t\tprint( f\"warning: { num_elements } elements in total.\" )\n",
    "\t\t\treturn 0\n",
    "\n",
    "\t\tproportions = counts / num_elements\n",
    "\t\treturn np.sum( proportions * np.log2( counts ) )"
   ]
  },
  {
   "cell_type": "code",
   "execution_count": 16,
   "id": "4dc8fd4b-492b-426b-9fc2-07671ffd37f9",
   "metadata": {
    "tags": []
   },
   "outputs": [],
   "source": [
    "def my_fit( words):\n",
    "    dt = Tree( min_leaf_size = 1, max_depth = 15 )\n",
    "    dt.fit( words)\n",
    "    return dt"
   ]
  },
  {
   "cell_type": "code",
   "execution_count": 17,
   "id": "e2eb2023-8156-490a-b797-6d980991fc58",
   "metadata": {
    "tags": []
   },
   "outputs": [],
   "source": [
    "model = my_fit(words)\n",
    "query_max = 15\n",
    "win = 0\n",
    "query = 0"
   ]
  },
  {
   "cell_type": "code",
   "execution_count": 18,
   "id": "f81d334c-692c-4e44-9730-b0e082f4aeab",
   "metadata": {
    "tags": []
   },
   "outputs": [],
   "source": [
    "merlin = Merlin( query_max, words )\n",
    "arthur = Arthur( model )\n",
    "merlin.meet( arthur )\n",
    "arthur.meet( merlin )\n",
    "\n",
    "for ( i, secret ) in enumerate( words ):\n",
    "    arthur.reset()\n",
    "    merlin.reset_and_play( secret )\n",
    "\n",
    "win += merlin.win_count / num_words\n",
    "query += merlin.tot_query_count / num_words"
   ]
  },
  {
   "cell_type": "code",
   "execution_count": 19,
   "id": "c56d5ec0-acfd-43d1-99cf-5c0109391162",
   "metadata": {
    "tags": []
   },
   "outputs": [
    {
     "data": {
      "text/plain": [
       "(1.0, 3.9992258563963614)"
      ]
     },
     "execution_count": 19,
     "metadata": {},
     "output_type": "execute_result"
    }
   ],
   "source": [
    "win, query"
   ]
  }
 ],
 "metadata": {
  "kernelspec": {
   "display_name": "Python 3",
   "language": "python",
   "name": "python3"
  },
  "language_info": {
   "codemirror_mode": {
    "name": "ipython",
    "version": 3
   },
   "file_extension": ".py",
   "mimetype": "text/x-python",
   "name": "python",
   "nbconvert_exporter": "python",
   "pygments_lexer": "ipython3",
   "version": "3.9.2"
  }
 },
 "nbformat": 4,
 "nbformat_minor": 5
}
