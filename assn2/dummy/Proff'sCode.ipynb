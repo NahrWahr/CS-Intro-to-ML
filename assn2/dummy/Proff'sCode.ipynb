{
 "cells": [
  {
   "cell_type": "code",
   "execution_count": 1,
   "id": "given-haven",
   "metadata": {
    "tags": []
   },
   "outputs": [],
   "source": [
    "import numpy as np"
   ]
  },
  {
   "cell_type": "code",
   "execution_count": 3,
   "id": "veterinary-provider",
   "metadata": {
    "tags": []
   },
   "outputs": [],
   "source": [
    "class Tree:\n",
    "    def __init__( self, min_leaf_size, max_depth ):\n",
    "        self.root = None\n",
    "        self.words = None\n",
    "        self.min_leaf_size = min_leaf_size\n",
    "        self.max_depth = max_depth\n",
    "    \n",
    "    def fit( self, words, verbose = False ):\n",
    "        self.words = words\n",
    "        self.root = Node( depth = 0, parent = None )\n",
    "        # The root is trained with all the words\n",
    "        self.root.fit(all_words = self.words, \n",
    "                      my_words_idx = np.arange( len( self.words ) ), \n",
    "                      min_leaf_size = self.min_leaf_size, \n",
    "                      max_depth = self.max_depth, \n",
    "                      verbose = verbose )"
   ]
  },
  {
   "cell_type": "code",
   "execution_count": 4,
   "id": "welcome-generator",
   "metadata": {
    "tags": []
   },
   "outputs": [],
   "source": [
    "class Node:\n",
    "    # A node stores its own depth (root = depth 0), a link to its parent\n",
    "    # A link to all the words as well as the words that reached that node\n",
    "    # A dictionary is used to store the children of a non-leaf node.\n",
    "    # Each child is paired with the response that selects that child.\n",
    "    # A node also stores the query-response history that led to that node\n",
    "    # Note: my_words_idx only stores indices and not the words themselves\n",
    "    def __init__(self, depth, parent ):\n",
    "        self.depth = depth\n",
    "        self.parent = parent\n",
    "        self.all_words = None\n",
    "        self.my_words_idx = None\n",
    "        self.children = {}\n",
    "        self.is_leaf = True\n",
    "        self.query_idx = None\n",
    "        #self.history = []\n",
    "    \n",
    "    # Each node must implement a get_query method that generates the\n",
    "    # query that gets asked when we reach that node. Note that leaf nodes\n",
    "    # also generate a query which is usually the final answer\n",
    "    def get_query( self ):\n",
    "        return self.query_idx\n",
    "    \n",
    "    # Each non-leaf node must implement a get_child method that takes a\n",
    "    # response and selects one of the children based on that response\n",
    "    def get_child( self, response ):\n",
    "        # This case should not arise if things are working properly\n",
    "        # Cannot return a child if I am a leaf so return myself as a default action\n",
    "        if self.is_leaf:\n",
    "            print( \"Why is a leaf node being asked to produce a child? Melbot should look into this!!\" )\n",
    "            child = self\n",
    "        else:\n",
    "            # This should ideally not happen. The node should ensure that all possibilities\n",
    "            # are covered, e.g. by having a catch-all response. Fix the model if this happens\n",
    "            # For now, hack things by modifying the response to one that exists in the dictionary\n",
    "            if response not in self.children:\n",
    "                print( f\"Unknown response {response} -- need to fix the model\" )\n",
    "                response = list(self.children.keys())[0]\n",
    "            \n",
    "            child = self.children[ response ]\n",
    "            \n",
    "        return child\n",
    "    \n",
    "    # Dummy leaf action -- just return the first word\n",
    "    def process_leaf(self, \n",
    "                     my_words_idx, \n",
    "                     #history \n",
    "                    ):\n",
    "        return my_words_idx[0]\n",
    "    \n",
    "    def reveal(self, \n",
    "               word, \n",
    "               query ):\n",
    "        # Find out the intersections between the query and the word\n",
    "        mask = [ *( '_' * len( word ) ) ]\n",
    "        \n",
    "        for i in range( min( len( word ), len( query ) ) ):\n",
    "            if word[i] == query[i]:\n",
    "                mask[i] = word[i]\n",
    "        \n",
    "        return ' '.join( mask )\n",
    "    \n",
    "    # Dummy node splitting action -- use a random word as query\n",
    "    # Note that any word in the dictionary can be the query\n",
    "    def process_node(self, \n",
    "                     all_words, \n",
    "                     my_words_idx, \n",
    "                     #history, \n",
    "                     verbose ):\n",
    "        # For the root we do not ask any query -- Melbot simply gives us the length of the secret word\n",
    "        if self.depth == 0:\n",
    "            query_idx = -1\n",
    "            query = \"\"\n",
    "        else:\n",
    "            query_idx = np.random.randint( 0, len( all_words ) )\n",
    "            query = all_words[ query_idx ]\n",
    "        \n",
    "        split_dict = {}\n",
    "        \n",
    "        for idx in my_words_idx:\n",
    "            mask = self.reveal( all_words[ idx ], query )\n",
    "            if mask not in split_dict:\n",
    "                split_dict[ mask ] = []\n",
    "            \n",
    "            split_dict[ mask ].append( idx )\n",
    "        \n",
    "        if len( split_dict.items() ) < 2 and verbose:\n",
    "            print( \"Warning: did not make any meaningful split with this query!\" )\n",
    "        \n",
    "        return ( query_idx, split_dict )\n",
    "    \n",
    "    def fit(self, \n",
    "            all_words, \n",
    "            my_words_idx, \n",
    "            min_leaf_size, \n",
    "            max_depth, \n",
    "            fmt_str = \"    \", \n",
    "            verbose = False ):\n",
    "        self.all_words = all_words\n",
    "        self.my_words_idx = my_words_idx\n",
    "        \n",
    "        # If the node is too small or too deep, make it a leaf\n",
    "        # In general, can also include purity considerations into account\n",
    "        if len( my_words_idx ) <= min_leaf_size or self.depth >= max_depth:\n",
    "            self.is_leaf = True\n",
    "            global numLeaves\n",
    "            numLeaves += 1\n",
    "            self.query_idx = self.process_leaf(self.my_words_idx, \n",
    "                                               #self.history \n",
    "                                              )\n",
    "        else:\n",
    "            self.is_leaf = False\n",
    "            ( self.query_idx, split_dict ) = self.process_node(self.all_words, \n",
    "                                                               self.my_words_idx, \n",
    "                                                               #self.history, \n",
    "                                                               verbose )\n",
    "            \n",
    "            for ( i, ( response, split ) ) in enumerate( split_dict.items() ):\n",
    "                \n",
    "                # Create a new child for every split\n",
    "                self.children[ response ] = Node( depth = self.depth + 1, parent = self )\n",
    "                #history = self.history.copy()\n",
    "                #history.append( [ self.query_idx, response ] )\n",
    "                #self.children[ response ].history = history\n",
    "                \n",
    "                # Recursively train this child node\n",
    "                self.children[ response ].fit(self.all_words, \n",
    "                                              split, \n",
    "                                              min_leaf_size, \n",
    "                                              max_depth, \n",
    "                                              fmt_str, \n",
    "                                              verbose )"
   ]
  },
  {
   "cell_type": "code",
   "execution_count": 5,
   "id": "constant-uganda",
   "metadata": {
    "tags": []
   },
   "outputs": [],
   "source": [
    "class Merlin:\n",
    "    def __init__( self, query_max, words ):\n",
    "        self.words = words\n",
    "        self.num_words = len( words )\n",
    "        self.secret = \"\"\n",
    "        self.query_max = query_max\n",
    "        self.arthur = None\n",
    "        self.win_count = 0\n",
    "        self.tot_query_count = 0\n",
    "        self.rnd_query_count = 0\n",
    "        \n",
    "    def meet( self, arthur ):\n",
    "        self.arthur = arthur\n",
    "    \n",
    "    def reset( self, secret ):\n",
    "        self.secret = secret\n",
    "        self.rnd_query_count = 0\n",
    "    \n",
    "    # Receive a message from Arthur\n",
    "    # Process it and terminate the round or else message Arthur back\n",
    "    # Arthur can set is_done to request termination of this round after this query\n",
    "    def msg( self, query_idx, is_done = False ):\n",
    "    \n",
    "        # Supplying an illegal value for query_idx is a way for Arthur to request\n",
    "        # termination of this round immediately without even processing the current query\n",
    "        # However, this results in query count being set to max for this round\n",
    "        if query_idx < 0 or query_idx > self.num_words - 1:\n",
    "            warnings.warn( \"Warning: Arthur has sent an illegal query -- terminating this round\", UserWarning )\n",
    "            self.tot_query_count += self.query_max\n",
    "            return\n",
    "        \n",
    "        # Arthur has made a valid query\n",
    "        # Find the guessed word and increase the query counter\n",
    "        query = self.words[ query_idx ]\n",
    "        self.rnd_query_count += 1\n",
    "        \n",
    "        # Find out the intersections between the query and the secret\n",
    "        reveal = [ *( '_' * len( self.secret ) ) ]\n",
    "        \n",
    "        for i in range( min( len( self.secret ), len( query ) ) ):\n",
    "            if self.secret[i] == query[i]:\n",
    "                reveal[ i ] = self.secret[i]\n",
    "        \n",
    "        # The word was correctly guessed\n",
    "        if '_' not in reveal:\n",
    "            self.win_count += 1\n",
    "            self.tot_query_count += self.rnd_query_count\n",
    "            return\n",
    "        \n",
    "        # Too many queries have been made - terminate the round\n",
    "        if self.rnd_query_count >= self.query_max:\n",
    "            self.tot_query_count += self.rnd_query_count\n",
    "            return\n",
    "        \n",
    "        # If Arthur is done playing, terminate this round\n",
    "        if is_done:\n",
    "            self.tot_query_count += self.rnd_query_count\n",
    "            return\n",
    "        \n",
    "        # If none of the above happen, continue playing\n",
    "        self.arthur.msg( ' '.join( reveal ) )\n",
    "    \n",
    "    def reset_and_play( self, secret ):\n",
    "        self.reset( secret )\n",
    "        self.arthur.msg( ( \"_ \" * len( self.secret ) )[:-1] )"
   ]
  },
  {
   "cell_type": "code",
   "execution_count": 6,
   "id": "introductory-scoop",
   "metadata": {
    "tags": []
   },
   "outputs": [],
   "source": [
    "class Arthur:\n",
    "    def __init__( self, model ):\n",
    "        self.dt = model\n",
    "        self.curr_node = self.dt.root\n",
    "        self.merlin = None\n",
    "        self.is_done = False\n",
    "        \n",
    "    def meet( self, merlin ):\n",
    "        self.merlin = merlin\n",
    "    \n",
    "    def reset( self ):\n",
    "        self.curr_node = self.dt.root\n",
    "        self.is_done = False\n",
    "    \n",
    "    def msg( self, response ):\n",
    "        # If we are not at a leaf, lets go to the appropriate child based on the response\n",
    "        if not self.curr_node.is_leaf:\n",
    "            self.curr_node = self.curr_node.get_child( response )\n",
    "        # If we are at a leaf, we should reqeust Merlin to terminate the round after this query\n",
    "        else:\n",
    "            self.is_done = True\n",
    "        \n",
    "        # Either way, get the query to be sent to Merlin\n",
    "        query = self.curr_node.get_query()\n",
    "        self.merlin.msg( query, self.is_done )"
   ]
  },
  {
   "cell_type": "code",
   "execution_count": 7,
   "id": "statewide-financing",
   "metadata": {
    "tags": []
   },
   "outputs": [],
   "source": [
    "with open( \"dict_secret\", 'r' ) as f:\n",
    "    words = f.read().split( '\\n' )[:-1] # Omit the last line since it is empty\n",
    "    num_words = len( words )"
   ]
  },
  {
   "cell_type": "code",
   "execution_count": 8,
   "id": "hybrid-physics",
   "metadata": {
    "tags": []
   },
   "outputs": [],
   "source": [
    "def my_fit( words, verbose = False ):\n",
    "    dt = Tree( min_leaf_size = 1, max_depth = 15 )\n",
    "    dt.fit( words, verbose )\n",
    "    return dt"
   ]
  },
  {
   "cell_type": "code",
   "execution_count": 9,
   "id": "suspended-rough",
   "metadata": {
    "tags": []
   },
   "outputs": [],
   "source": [
    "model = my_fit(words)\n",
    "query_max = 15\n",
    "win = 0\n",
    "query = 0"
   ]
  },
  {
   "cell_type": "code",
   "execution_count": 10,
   "id": "brief-venezuela",
   "metadata": {
    "tags": []
   },
   "outputs": [],
   "source": [
    "merlin = Merlin( query_max, words )\n",
    "arthur = Arthur( model )\n",
    "merlin.meet( arthur )\n",
    "arthur.meet( merlin )\n",
    "\n",
    "for ( i, secret ) in enumerate( words ):\n",
    "    arthur.reset()\n",
    "    merlin.reset_and_play( secret )\n",
    "\n",
    "win += merlin.win_count / num_words\n",
    "query += merlin.tot_query_count / num_words"
   ]
  },
  {
   "cell_type": "code",
   "execution_count": 11,
   "id": "b85c6bbe-5146-4f78-9be3-617848f96d32",
   "metadata": {
    "tags": []
   },
   "outputs": [
    {
     "data": {
      "text/plain": [
       "(0.8422682407586607, 9.84246177665957)"
      ]
     },
     "execution_count": 11,
     "metadata": {},
     "output_type": "execute_result"
    }
   ],
   "source": [
    "win, query"
   ]
  }
 ],
 "metadata": {
  "kernelspec": {
   "display_name": "Python 3",
   "language": "python",
   "name": "python3"
  },
  "language_info": {
   "codemirror_mode": {
    "name": "ipython",
    "version": 3
   },
   "file_extension": ".py",
   "mimetype": "text/x-python",
   "name": "python",
   "nbconvert_exporter": "python",
   "pygments_lexer": "ipython3",
   "version": "3.9.2"
  },
  "toc-autonumbering": true,
  "toc-showcode": true,
  "toc-showmarkdowntxt": true,
  "widgets": {
   "application/vnd.jupyter.widget-state+json": {
    "state": {},
    "version_major": 1,
    "version_minor": 0
   }
  }
 },
 "nbformat": 4,
 "nbformat_minor": 5
}
